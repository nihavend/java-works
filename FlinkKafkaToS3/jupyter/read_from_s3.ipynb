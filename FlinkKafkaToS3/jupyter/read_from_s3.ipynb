{
 "cells": [
  {
   "cell_type": "code",
   "execution_count": 1,
   "id": "e52630bb-c3a5-48c1-b457-d078d430739f",
   "metadata": {},
   "outputs": [],
   "source": [
    "from pyspark.sql import SparkSession"
   ]
  },
  {
   "cell_type": "code",
   "execution_count": 2,
   "id": "976cdd21-c2d6-4151-b7a8-919d306b258e",
   "metadata": {},
   "outputs": [],
   "source": [
    "# spark = SparkSession.builder.appName(\"Base Spark Template\").getOrCreate()"
   ]
  },
  {
   "cell_type": "code",
   "execution_count": null,
   "id": "64477459-ed90-4cf1-a042-7c20ae483b03",
   "metadata": {},
   "outputs": [
    {
     "name": "stderr",
     "output_type": "stream",
     "text": [
      "25/04/08 16:01:05 WARN NativeCodeLoader: Unable to load native-hadoop library for your platform... using builtin-java classes where applicable\n",
      "Setting default log level to \"WARN\".\n",
      "To adjust logging level use sc.setLogLevel(newLevel). For SparkR, use setLogLevel(newLevel).\n"
     ]
    }
   ],
   "source": [
    "# Create your SparkSession\n",
    "spark = SparkSession.builder \\\n",
    "    .appName(\"My Application\") \\\n",
    "    .config(\"spark.jars\", \"/Users/serkantas/dev/github/java-works/FlinkKafkaToS3/jupyter/jars/hadoop-aws-3.3.1.jar,/Users/serkantas/dev/github/java-works/FlinkKafkaToS3/jupyter/jars/aws-java-sdk-bundle-1.11.901.jar\")\\\n",
    "    .config(\"spark.hadoop.fs.s3a.impl\", \"org.apache.hadoop.fs.s3a.S3AFileSystem\") \\\n",
    "    .config(\"spark.hadoop.fs.s3a.multipart.size\", 67108864)\\\n",
    "    .config(\"spark.hadoop.fs.s3a.access.key\", \"\") \\\n",
    "    .config(\"spark.hadoop.fs.s3a.secret.key\", \"\") \\\n",
    "    .config(\"spark.hadoop.fs.s3a.session.token\", \"\")\\\n",
    "    .getOrCreate()\n",
    "#.config(\"spark.hadoop.fs.s3a.endpoint\", \"my-s3.endpoint\") \\\n",
    "#.config(\"fs.s3a.aws.credentials.provider\", \"com.amazonaws.auth.DefaultAWSCredentialsProviderChain\") \\\n",
    "#    .config(\"fs.s3a.multipart.threshold\", 67108864)\\\n"
   ]
  },
  {
   "cell_type": "code",
   "execution_count": 3,
   "id": "8d030766-10f0-42d9-8956-ec4b1a3db908",
   "metadata": {},
   "outputs": [],
   "source": [
    "# spark._jsc.hadoopConfiguration().set(\"fs.s3a.aws.credentials.provider\", \"com.amazonaws.auth.InstanceProfileCredentialsProvider,com.amazonaws.auth.DefaultAWSCredentialsProviderChain\") # Change it according to your auth mechanism"
   ]
  },
  {
   "cell_type": "code",
   "execution_count": 3,
   "id": "f48e745f-554c-4a50-965f-ac03cb772cbc",
   "metadata": {},
   "outputs": [],
   "source": [
    "#endpoint = \"s3a://int-avatar-test/logs/*.log\"\n",
    "#df = spark.read.option(\"multiLine\", \"true\")\\\n",
    "#.option(\"checkpointLocation\", \"s3a://int-avatar-test/logs/checkpoints/\")\\\n",
    "#.json(\"s3a://int-avatar-test/logs/*.log\")\n",
    "##.json(\"s3a://int-avatar-test/logs/1740142545.log\")"
   ]
  },
  {
   "cell_type": "code",
   "execution_count": 3,
   "id": "3c4e7d05",
   "metadata": {},
   "outputs": [
    {
     "name": "stderr",
     "output_type": "stream",
     "text": [
      "25/04/08 16:01:16 WARN MetricsConfig: Cannot locate configuration: tried hadoop-metrics2-s3a-file-system.properties,hadoop-metrics2.properties\n",
      "                                                                                \r"
     ]
    }
   ],
   "source": [
    "# Parquet Reader\n",
    "# endpoint = \"s3a://int-avatar-test/flink-parquet/year=2025/month=03/day=29/hour=14/\"\n",
    "endpoint = \"s3a://int-avatar-test/flink-parquet/year=2025/month=04/day=08/hour=15/\"\n",
    "df = spark.read.option(\"multiLine\", \"true\")\\\n",
    ".option(\"checkpointLocation\", \"s3a://int-avatar-test/flink-cp/\").parquet(endpoint)"
   ]
  },
  {
   "cell_type": "code",
   "execution_count": 4,
   "id": "61dd8067-137a-4d4f-9b93-5d7e72edfc87",
   "metadata": {},
   "outputs": [
    {
     "name": "stdout",
     "output_type": "stream",
     "text": [
      "root\n",
      " |-- resourceLogs: array (nullable = true)\n",
      " |    |-- element: struct (containsNull = true)\n",
      " |    |    |-- resource: struct (nullable = true)\n",
      " |    |    |    |-- attributes: array (nullable = true)\n",
      " |    |    |    |    |-- element: struct (containsNull = true)\n",
      " |    |    |    |    |    |-- key: string (nullable = true)\n",
      " |    |    |    |    |    |-- value: struct (nullable = true)\n",
      " |    |    |    |    |    |    |-- stringValue: string (nullable = true)\n",
      " |    |    |    |    |    |    |-- intValue: string (nullable = true)\n",
      " |    |    |    |    |    |    |-- arrayValue: struct (nullable = true)\n",
      " |    |    |    |    |    |    |    |-- values: array (nullable = true)\n",
      " |    |    |    |    |    |    |    |    |-- element: struct (containsNull = true)\n",
      " |    |    |    |    |    |    |    |    |    |-- stringValue: string (nullable = true)\n",
      " |    |    |    |    |    |    |    |    |    |-- intValue: string (nullable = true)\n",
      " |    |    |-- scopeLogs: array (nullable = true)\n",
      " |    |    |    |-- element: struct (containsNull = true)\n",
      " |    |    |    |    |-- scope: struct (nullable = true)\n",
      " |    |    |    |    |    |-- name: string (nullable = true)\n",
      " |    |    |    |    |-- logRecords: array (nullable = true)\n",
      " |    |    |    |    |    |-- element: struct (containsNull = true)\n",
      " |    |    |    |    |    |    |-- timeUnixNano: string (nullable = true)\n",
      " |    |    |    |    |    |    |-- observedTimeUnixNano: string (nullable = true)\n",
      " |    |    |    |    |    |    |-- severityNumber: integer (nullable = true)\n",
      " |    |    |    |    |    |    |-- severityText: string (nullable = true)\n",
      " |    |    |    |    |    |    |-- body: struct (nullable = true)\n",
      " |    |    |    |    |    |    |    |-- stringValue: string (nullable = true)\n",
      " |    |    |    |    |    |    |-- attributes: array (nullable = true)\n",
      " |    |    |    |    |    |    |    |-- element: struct (containsNull = true)\n",
      " |    |    |    |    |    |    |    |    |-- key: string (nullable = true)\n",
      " |    |    |    |    |    |    |    |    |-- value: struct (nullable = true)\n",
      " |    |    |    |    |    |    |    |    |    |-- stringValue: string (nullable = true)\n",
      " |    |    |    |    |    |    |    |    |    |-- intValue: string (nullable = true)\n",
      " |    |    |    |    |    |    |    |    |    |-- arrayValue: struct (nullable = true)\n",
      " |    |    |    |    |    |    |    |    |    |    |-- values: array (nullable = true)\n",
      " |    |    |    |    |    |    |    |    |    |    |    |-- element: struct (containsNull = true)\n",
      " |    |    |    |    |    |    |    |    |    |    |    |    |-- stringValue: string (nullable = true)\n",
      " |    |    |    |    |    |    |    |    |    |    |    |    |-- intValue: string (nullable = true)\n",
      " |    |    |    |    |    |    |-- traceId: string (nullable = true)\n",
      " |    |    |    |    |    |    |-- spanId: string (nullable = true)\n",
      " |    |    |-- schemaUrl: string (nullable = true)\n",
      "\n"
     ]
    }
   ],
   "source": [
    "df.printSchema()"
   ]
  },
  {
   "cell_type": "code",
   "execution_count": 5,
   "id": "185085fc-04f8-489c-bceb-7351c5ee12a4",
   "metadata": {},
   "outputs": [
    {
     "name": "stderr",
     "output_type": "stream",
     "text": [
      "                                                                                \r"
     ]
    },
    {
     "name": "stdout",
     "output_type": "stream",
     "text": [
      "+--------------------------------------------------------------------------------------------------------------------------------------------------------------------------------------------------------------------------------------------------------------------------------------------------------------------------------------------------------------------------------------------------------------------------------------------------------------------------------------------------------------------------------------------------------------------------------------------------------------------------------------------------------------------------------------------------------------------------------------------------------------------------------------------------------------------------------------------------------------------------------------------------------------------------------------------------------------------------------------------------------------------------------------------------------------------------------------------------------------------------------------------------------------------------------------------------------------------------------------------------------------------------------------------------------------------------------------------------------------------------------------------------------------------------------------------------------------------------------------------------------------------------------------------------------------------------------------------------------------------------------------------------------------------------------------------------------------------------------------------------------------------------------------+\n",
      "|resourceLogs                                                                                                                                                                                                                                                                                                                                                                                                                                                                                                                                                                                                                                                                                                                                                                                                                                                                                                                                                                                                                                                                                                                                                                                                                                                                                                                                                                                                                                                                                                                                                                                                                                                                                                                                                                          |\n",
      "+--------------------------------------------------------------------------------------------------------------------------------------------------------------------------------------------------------------------------------------------------------------------------------------------------------------------------------------------------------------------------------------------------------------------------------------------------------------------------------------------------------------------------------------------------------------------------------------------------------------------------------------------------------------------------------------------------------------------------------------------------------------------------------------------------------------------------------------------------------------------------------------------------------------------------------------------------------------------------------------------------------------------------------------------------------------------------------------------------------------------------------------------------------------------------------------------------------------------------------------------------------------------------------------------------------------------------------------------------------------------------------------------------------------------------------------------------------------------------------------------------------------------------------------------------------------------------------------------------------------------------------------------------------------------------------------------------------------------------------------------------------------------------------------+\n",
      "|[{{[{commit, {ca593d14-f398-41e1-94e0-f0af57df71c5, NULL, NULL}}, {deployment.environment, {staging, NULL, NULL}}, {host.name, {host-392.local, NULL, NULL}}, {process.command_args, {NULL, NULL, {[{/path/to/executable-663, NULL}]}}}, {process.executable.name, {app-64, NULL, NULL}}, {process.executable.path, {/path/app-310, NULL, NULL}}, {process.owner, {user-98, NULL, NULL}}, {process.pid, {NULL, 15936, NULL}}, {process.runtime.description, {runtime v0.6135308063486302, NULL, NULL}}, {process.runtime.name, {java, NULL, NULL}}, {process.runtime.version, {1.11.0, NULL, NULL}}, {service.instance.id, {host-714.local, NULL, NULL}}, {service.name, {service-5, NULL, NULL}}, {service.version, {v0.8519417315464363, NULL, NULL}}, {telemetry.sdk.language, {java, NULL, NULL}}, {telemetry.sdk.name, {opentelemetry, NULL, NULL}}, {telemetry.sdk.version, {1.3.0, NULL, NULL}}, {k8s.pod.ip, {192.168.119.196, NULL, NULL}}]}, [{{scope-8}, [{263579570959250, 263579570968468, 9, info, {Random log message 29}, [{serviceName, {service-4, NULL, NULL}}, {hostname, {host-281.local, NULL, NULL}}, {code.filepath, {/app/code-15.java, NULL, NULL}}, {code.lineno, {NULL, 625, NULL}}, {code.function, {com.example.Func4, NULL, NULL}}, {language, {en, NULL, NULL}}, {correlationId, {cb3f1148-4eb7-438b-bd6e-01dd87bc36cd, NULL, NULL}}, {method, {POST, NULL, NULL}}, {path, {/api/v1/90, NULL, NULL}}, {query, {, NULL, NULL}}, {user-agent, {Agent/1, NULL, NULL}}, {request, {POST /api/v1/test HTTP/1.1\\r\\nHost: localhost:7388\\r\\n, NULL, NULL}}, {idList, {NULL, NULL, {[{id-772, NULL}, {id-547, NULL}]}}}, {time, {1744116967178Z, NULL, NULL}}], fae4b959-6785-49e1-a770-62d8db785982, ac73c03d}]}], https://opentelemetry.io/schemas/1.26.0}] |\n",
      "|[{{[{commit, {ef44b7d6-0633-40b4-a872-9ed8d17f487f, NULL, NULL}}, {deployment.environment, {prod, NULL, NULL}}, {host.name, {host-54.local, NULL, NULL}}, {process.command_args, {NULL, NULL, {[{/path/to/executable-379, NULL}]}}}, {process.executable.name, {app-86, NULL, NULL}}, {process.executable.path, {/path/app-163, NULL, NULL}}, {process.owner, {user-41, NULL, NULL}}, {process.pid, {NULL, 8917, NULL}}, {process.runtime.description, {runtime v0.7619464405596282, NULL, NULL}}, {process.runtime.name, {java, NULL, NULL}}, {process.runtime.version, {1.11.0, NULL, NULL}}, {service.instance.id, {host-170.local, NULL, NULL}}, {service.name, {service-9, NULL, NULL}}, {service.version, {v0.1496657294326883, NULL, NULL}}, {telemetry.sdk.language, {java, NULL, NULL}}, {telemetry.sdk.name, {opentelemetry, NULL, NULL}}, {telemetry.sdk.version, {1.2.0, NULL, NULL}}, {k8s.pod.ip, {192.168.249.110, NULL, NULL}}]}, [{{scope-6}, [{263580579377875, 263580579388184, 9, info, {Random log message 547}, [{serviceName, {service-5, NULL, NULL}}, {hostname, {host-962.local, NULL, NULL}}, {code.filepath, {/app/code-9.java, NULL, NULL}}, {code.lineno, {NULL, 635, NULL}}, {code.function, {com.example.Func3, NULL, NULL}}, {language, {en, NULL, NULL}}, {correlationId, {fdda57f1-f6d6-4d0e-8195-a8989fc5bd73, NULL, NULL}}, {method, {PUT, NULL, NULL}}, {path, {/api/v1/76, NULL, NULL}}, {query, {, NULL, NULL}}, {user-agent, {Agent/3, NULL, NULL}}, {request, {GET /api/v1/test HTTP/1.1\\r\\nHost: localhost:5006\\r\\n, NULL, NULL}}, {idList, {NULL, NULL, {[{id-711, NULL}, {id-628, NULL}]}}}, {time, {1744116968187Z, NULL, NULL}}], ff49fac7-0e49-411f-81ac-aa9fb9dca256, 60ba9c3c}]}], https://opentelemetry.io/schemas/1.26.0}]        |\n",
      "|[{{[{commit, {87ae619c-884f-4fdc-9a73-86f1e4174089, NULL, NULL}}, {deployment.environment, {staging, NULL, NULL}}, {host.name, {host-806.local, NULL, NULL}}, {process.command_args, {NULL, NULL, {[{/path/to/executable-115, NULL}]}}}, {process.executable.name, {app-10, NULL, NULL}}, {process.executable.path, {/path/app-923, NULL, NULL}}, {process.owner, {user-56, NULL, NULL}}, {process.pid, {NULL, 9311, NULL}}, {process.runtime.description, {runtime v0.8860682946581756, NULL, NULL}}, {process.runtime.name, {java, NULL, NULL}}, {process.runtime.version, {1.6.0, NULL, NULL}}, {service.instance.id, {host-718.local, NULL, NULL}}, {service.name, {service-6, NULL, NULL}}, {service.version, {v0.4062792322758356, NULL, NULL}}, {telemetry.sdk.language, {java, NULL, NULL}}, {telemetry.sdk.name, {opentelemetry, NULL, NULL}}, {telemetry.sdk.version, {1.1.0, NULL, NULL}}, {k8s.pod.ip, {192.168.200.61, NULL, NULL}}]}, [{{scope-3}, [{263581610660708, 263581610667423, 9, info, {Random log message 856}, [{serviceName, {service-3, NULL, NULL}}, {hostname, {host-345.local, NULL, NULL}}, {code.filepath, {/app/code-36.java, NULL, NULL}}, {code.lineno, {NULL, 971, NULL}}, {code.function, {com.example.Func5, NULL, NULL}}, {language, {en, NULL, NULL}}, {correlationId, {84c4ab4e-be9f-47ee-82cf-62d5ae06feef, NULL, NULL}}, {method, {GET, NULL, NULL}}, {path, {/api/v1/60, NULL, NULL}}, {query, {, NULL, NULL}}, {user-agent, {Agent/4, NULL, NULL}}, {request, {POST /api/v1/test HTTP/1.1\\r\\nHost: localhost:3551\\r\\n, NULL, NULL}}, {idList, {NULL, NULL, {[{id-743, NULL}, {id-916, NULL}]}}}, {time, {1744116969218Z, NULL, NULL}}], f9c5e99c-7c88-4677-8ddc-d10e212dee10, e9c759e1}]}], https://opentelemetry.io/schemas/1.26.0}]    |\n",
      "|[{{[{commit, {6f07abc9-70f3-4e6f-b4fd-2ed56d2f41d5, NULL, NULL}}, {deployment.environment, {prod, NULL, NULL}}, {host.name, {host-540.local, NULL, NULL}}, {process.command_args, {NULL, NULL, {[{/path/to/executable-859, NULL}]}}}, {process.executable.name, {app-77, NULL, NULL}}, {process.executable.path, {/path/app-548, NULL, NULL}}, {process.owner, {user-83, NULL, NULL}}, {process.pid, {NULL, 11362, NULL}}, {process.runtime.description, {runtime v0.57919270185453, NULL, NULL}}, {process.runtime.name, {java, NULL, NULL}}, {process.runtime.version, {1.7.0, NULL, NULL}}, {service.instance.id, {host-212.local, NULL, NULL}}, {service.name, {service-2, NULL, NULL}}, {service.version, {v0.6679302870303488, NULL, NULL}}, {telemetry.sdk.language, {java, NULL, NULL}}, {telemetry.sdk.name, {opentelemetry, NULL, NULL}}, {telemetry.sdk.version, {1.1.0, NULL, NULL}}, {k8s.pod.ip, {192.168.13.0, NULL, NULL}}]}, [{{scope-4}, [{263582646771541, 263582646785422, 9, info, {Random log message 777}, [{serviceName, {service-4, NULL, NULL}}, {hostname, {host-932.local, NULL, NULL}}, {code.filepath, {/app/code-23.java, NULL, NULL}}, {code.lineno, {NULL, 13, NULL}}, {code.function, {com.example.Func4, NULL, NULL}}, {language, {en, NULL, NULL}}, {correlationId, {6754b4b2-4814-430a-96c5-091e9564e3a4, NULL, NULL}}, {method, {POST, NULL, NULL}}, {path, {/api/v1/7, NULL, NULL}}, {query, {, NULL, NULL}}, {user-agent, {Agent/7, NULL, NULL}}, {request, {POST /api/v1/test HTTP/1.1\\r\\nHost: localhost:10275\\r\\n, NULL, NULL}}, {idList, {NULL, NULL, {[{id-663, NULL}, {id-303, NULL}]}}}, {time, {1744116970254Z, NULL, NULL}}], d193637e-c841-4cf5-b4c9-db1989283f36, 425870d2}]}], https://opentelemetry.io/schemas/1.26.0}]          |\n",
      "|[{{[{commit, {27c69fb1-635d-4fbc-9f80-7b2f7e7576ab, NULL, NULL}}, {deployment.environment, {test, NULL, NULL}}, {host.name, {host-804.local, NULL, NULL}}, {process.command_args, {NULL, NULL, {[{/path/to/executable-192, NULL}]}}}, {process.executable.name, {app-33, NULL, NULL}}, {process.executable.path, {/path/app-232, NULL, NULL}}, {process.owner, {user-11, NULL, NULL}}, {process.pid, {NULL, 19202, NULL}}, {process.runtime.description, {runtime v0.17691721423371043, NULL, NULL}}, {process.runtime.name, {java, NULL, NULL}}, {process.runtime.version, {1.7.0, NULL, NULL}}, {service.instance.id, {host-560.local, NULL, NULL}}, {service.name, {service-8, NULL, NULL}}, {service.version, {v0.6791104526661856, NULL, NULL}}, {telemetry.sdk.language, {java, NULL, NULL}}, {telemetry.sdk.name, {opentelemetry, NULL, NULL}}, {telemetry.sdk.version, {1.3.0, NULL, NULL}}, {k8s.pod.ip, {192.168.93.224, NULL, NULL}}]}, [{{scope-8}, [{263583671335416, 263583671344839, 9, info, {Random log message 667}, [{serviceName, {service-6, NULL, NULL}}, {hostname, {host-172.local, NULL, NULL}}, {code.filepath, {/app/code-53.java, NULL, NULL}}, {code.lineno, {NULL, 581, NULL}}, {code.function, {com.example.Func9, NULL, NULL}}, {language, {en, NULL, NULL}}, {correlationId, {e6936dcf-51c6-4217-a46f-c1c309fe57a8, NULL, NULL}}, {method, {GET, NULL, NULL}}, {path, {/api/v1/77, NULL, NULL}}, {query, {, NULL, NULL}}, {user-agent, {Agent/4, NULL, NULL}}, {request, {GET /api/v1/test HTTP/1.1\\r\\nHost: localhost:2943\\r\\n, NULL, NULL}}, {idList, {NULL, NULL, {[{id-53, NULL}, {id-737, NULL}]}}}, {time, {1744116971279Z, NULL, NULL}}], 7877ca5d-7802-4b92-9b16-2110e4a3b5e1, bb1a88e8}]}], https://opentelemetry.io/schemas/1.26.0}]       |\n",
      "|[{{[{commit, {06acb20d-2ae2-4555-8443-1248b8caf1c2, NULL, NULL}}, {deployment.environment, {staging, NULL, NULL}}, {host.name, {host-793.local, NULL, NULL}}, {process.command_args, {NULL, NULL, {[{/path/to/executable-349, NULL}]}}}, {process.executable.name, {app-75, NULL, NULL}}, {process.executable.path, {/path/app-157, NULL, NULL}}, {process.owner, {user-42, NULL, NULL}}, {process.pid, {NULL, 15555, NULL}}, {process.runtime.description, {runtime v0.7445978947939679, NULL, NULL}}, {process.runtime.name, {java, NULL, NULL}}, {process.runtime.version, {1.2.0, NULL, NULL}}, {service.instance.id, {host-589.local, NULL, NULL}}, {service.name, {service-2, NULL, NULL}}, {service.version, {v0.6175486682917722, NULL, NULL}}, {telemetry.sdk.language, {java, NULL, NULL}}, {telemetry.sdk.name, {opentelemetry, NULL, NULL}}, {telemetry.sdk.version, {1.3.0, NULL, NULL}}, {k8s.pod.ip, {192.168.199.149, NULL, NULL}}]}, [{{scope-8}, [{263584686854000, 263584686861183, 9, info, {Random log message 592}, [{serviceName, {service-7, NULL, NULL}}, {hostname, {host-552.local, NULL, NULL}}, {code.filepath, {/app/code-28.java, NULL, NULL}}, {code.lineno, {NULL, 167, NULL}}, {code.function, {com.example.Func6, NULL, NULL}}, {language, {en, NULL, NULL}}, {correlationId, {dd77396d-522d-4b56-aae3-c12b97c67d34, NULL, NULL}}, {method, {PUT, NULL, NULL}}, {path, {/api/v1/21, NULL, NULL}}, {query, {, NULL, NULL}}, {user-agent, {Agent/0, NULL, NULL}}, {request, {PUT /api/v1/test HTTP/1.1\\r\\nHost: localhost:5559\\r\\n, NULL, NULL}}, {idList, {NULL, NULL, {[{id-611, NULL}, {id-150, NULL}]}}}, {time, {1744116972294Z, NULL, NULL}}], 9d970a7c-7169-493f-8a60-2b4e2f2f0efb, b041a320}]}], https://opentelemetry.io/schemas/1.26.0}]   |\n",
      "|[{{[{commit, {93908a84-69fb-446c-8f9f-e0208fa59f57, NULL, NULL}}, {deployment.environment, {prod, NULL, NULL}}, {host.name, {host-16.local, NULL, NULL}}, {process.command_args, {NULL, NULL, {[{/path/to/executable-496, NULL}]}}}, {process.executable.name, {app-91, NULL, NULL}}, {process.executable.path, {/path/app-29, NULL, NULL}}, {process.owner, {user-46, NULL, NULL}}, {process.pid, {NULL, 2858, NULL}}, {process.runtime.description, {runtime v0.24058778736596453, NULL, NULL}}, {process.runtime.name, {java, NULL, NULL}}, {process.runtime.version, {1.15.0, NULL, NULL}}, {service.instance.id, {host-744.local, NULL, NULL}}, {service.name, {service-6, NULL, NULL}}, {service.version, {v0.5517611592264755, NULL, NULL}}, {telemetry.sdk.language, {java, NULL, NULL}}, {telemetry.sdk.name, {opentelemetry, NULL, NULL}}, {telemetry.sdk.version, {1.3.0, NULL, NULL}}, {k8s.pod.ip, {192.168.193.49, NULL, NULL}}]}, [{{scope-5}, [{263585696091083, 263585696102709, 9, info, {Random log message 278}, [{serviceName, {service-4, NULL, NULL}}, {hostname, {host-25.local, NULL, NULL}}, {code.filepath, {/app/code-18.java, NULL, NULL}}, {code.lineno, {NULL, 230, NULL}}, {code.function, {com.example.Func8, NULL, NULL}}, {language, {en, NULL, NULL}}, {correlationId, {dcd0c143-e88f-4511-b8cd-e3a28fbb5142, NULL, NULL}}, {method, {POST, NULL, NULL}}, {path, {/api/v1/99, NULL, NULL}}, {query, {, NULL, NULL}}, {user-agent, {Agent/9, NULL, NULL}}, {request, {POST /api/v1/test HTTP/1.1\\r\\nHost: localhost:5022\\r\\n, NULL, NULL}}, {idList, {NULL, NULL, {[{id-879, NULL}, {id-537, NULL}]}}}, {time, {1744116973303Z, NULL, NULL}}], c60da705-c77c-4e9a-93fb-161a1081977e, ec5a1142}]}], https://opentelemetry.io/schemas/1.26.0}]       |\n",
      "|[{{[{commit, {2f11272b-bf86-4b09-acde-9988962f3f8b, NULL, NULL}}, {deployment.environment, {test, NULL, NULL}}, {host.name, {host-580.local, NULL, NULL}}, {process.command_args, {NULL, NULL, {[{/path/to/executable-306, NULL}]}}}, {process.executable.name, {app-64, NULL, NULL}}, {process.executable.path, {/path/app-108, NULL, NULL}}, {process.owner, {user-46, NULL, NULL}}, {process.pid, {NULL, 14713, NULL}}, {process.runtime.description, {runtime v0.3552568400841424, NULL, NULL}}, {process.runtime.name, {java, NULL, NULL}}, {process.runtime.version, {1.7.0, NULL, NULL}}, {service.instance.id, {host-509.local, NULL, NULL}}, {service.name, {service-8, NULL, NULL}}, {service.version, {v0.12125785040914427, NULL, NULL}}, {telemetry.sdk.language, {java, NULL, NULL}}, {telemetry.sdk.name, {opentelemetry, NULL, NULL}}, {telemetry.sdk.version, {1.4.0, NULL, NULL}}, {k8s.pod.ip, {192.168.199.92, NULL, NULL}}]}, [{{scope-3}, [{263586704789500, 263586704797077, 9, info, {Random log message 991}, [{serviceName, {service-9, NULL, NULL}}, {hostname, {host-630.local, NULL, NULL}}, {code.filepath, {/app/code-4.java, NULL, NULL}}, {code.lineno, {NULL, 15, NULL}}, {code.function, {com.example.Func7, NULL, NULL}}, {language, {en, NULL, NULL}}, {correlationId, {704e855d-4a28-441b-b276-27bf0f858ea0, NULL, NULL}}, {method, {POST, NULL, NULL}}, {path, {/api/v1/91, NULL, NULL}}, {query, {, NULL, NULL}}, {user-agent, {Agent/4, NULL, NULL}}, {request, {DELETE /api/v1/test HTTP/1.1\\r\\nHost: localhost:2297\\r\\n, NULL, NULL}}, {idList, {NULL, NULL, {[{id-979, NULL}, {id-496, NULL}]}}}, {time, {1744116974312Z, NULL, NULL}}], bc7d30c7-6474-4301-9dfd-62df9434ac10, 71cab6de}]}], https://opentelemetry.io/schemas/1.26.0}]    |\n",
      "|[{{[{commit, {eae93992-604e-4218-b18f-37ccafe7fe9b, NULL, NULL}}, {deployment.environment, {dev, NULL, NULL}}, {host.name, {host-395.local, NULL, NULL}}, {process.command_args, {NULL, NULL, {[{/path/to/executable-649, NULL}]}}}, {process.executable.name, {app-32, NULL, NULL}}, {process.executable.path, {/path/app-976, NULL, NULL}}, {process.owner, {user-46, NULL, NULL}}, {process.pid, {NULL, 19637, NULL}}, {process.runtime.description, {runtime v0.5257927087155769, NULL, NULL}}, {process.runtime.name, {java, NULL, NULL}}, {process.runtime.version, {1.6.0, NULL, NULL}}, {service.instance.id, {host-478.local, NULL, NULL}}, {service.name, {service-8, NULL, NULL}}, {service.version, {v0.9394048624596256, NULL, NULL}}, {telemetry.sdk.language, {java, NULL, NULL}}, {telemetry.sdk.name, {opentelemetry, NULL, NULL}}, {telemetry.sdk.version, {1.2.0, NULL, NULL}}, {k8s.pod.ip, {192.168.79.180, NULL, NULL}}]}, [{{scope-9}, [{263587714892875, 263587714904300, 9, info, {Random log message 33}, [{serviceName, {service-8, NULL, NULL}}, {hostname, {host-209.local, NULL, NULL}}, {code.filepath, {/app/code-78.java, NULL, NULL}}, {code.lineno, {NULL, 358, NULL}}, {code.function, {com.example.Func3, NULL, NULL}}, {language, {en, NULL, NULL}}, {correlationId, {0f9632bf-9467-4b33-af38-7a8f32500ad5, NULL, NULL}}, {method, {GET, NULL, NULL}}, {path, {/api/v1/90, NULL, NULL}}, {query, {, NULL, NULL}}, {user-agent, {Agent/6, NULL, NULL}}, {request, {GET /api/v1/test HTTP/1.1\\r\\nHost: localhost:1675\\r\\n, NULL, NULL}}, {idList, {NULL, NULL, {[{id-692, NULL}, {id-965, NULL}]}}}, {time, {1744116975322Z, NULL, NULL}}], bbed3a33-0e3d-42f1-b763-eec1b947e020, 7b21fcc9}]}], https://opentelemetry.io/schemas/1.26.0}]         |\n",
      "|[{{[{commit, {2f8f75de-f40e-4949-8335-5338401c3516, NULL, NULL}}, {deployment.environment, {test, NULL, NULL}}, {host.name, {host-230.local, NULL, NULL}}, {process.command_args, {NULL, NULL, {[{/path/to/executable-169, NULL}]}}}, {process.executable.name, {app-6, NULL, NULL}}, {process.executable.path, {/path/app-75, NULL, NULL}}, {process.owner, {user-70, NULL, NULL}}, {process.pid, {NULL, 6082, NULL}}, {process.runtime.description, {runtime v0.6267832221572776, NULL, NULL}}, {process.runtime.name, {java, NULL, NULL}}, {process.runtime.version, {1.11.0, NULL, NULL}}, {service.instance.id, {host-218.local, NULL, NULL}}, {service.name, {service-9, NULL, NULL}}, {service.version, {v0.21894335116357655, NULL, NULL}}, {telemetry.sdk.language, {java, NULL, NULL}}, {telemetry.sdk.name, {opentelemetry, NULL, NULL}}, {telemetry.sdk.version, {1.1.0, NULL, NULL}}, {k8s.pod.ip, {192.168.120.139, NULL, NULL}}]}, [{{scope-8}, [{263588723404041, 263588723418956, 9, info, {Random log message 631}, [{serviceName, {service-2, NULL, NULL}}, {hostname, {host-662.local, NULL, NULL}}, {code.filepath, {/app/code-20.java, NULL, NULL}}, {code.lineno, {NULL, 959, NULL}}, {code.function, {com.example.Func4, NULL, NULL}}, {language, {en, NULL, NULL}}, {correlationId, {769044ee-297a-421b-9954-9b517415e84b, NULL, NULL}}, {method, {POST, NULL, NULL}}, {path, {/api/v1/80, NULL, NULL}}, {query, {, NULL, NULL}}, {user-agent, {Agent/7, NULL, NULL}}, {request, {POST /api/v1/test HTTP/1.1\\r\\nHost: localhost:3736\\r\\n, NULL, NULL}}, {idList, {NULL, NULL, {[{id-791, NULL}, {id-428, NULL}]}}}, {time, {1744116976331Z, NULL, NULL}}], 78f6aca6-3a72-4fdc-9ec8-70aa4daeda78, c5d78603}]}], https://opentelemetry.io/schemas/1.26.0}]     |\n",
      "|[{{[{commit, {e5e0cc1d-f4f3-48c0-8a9c-fb37363f973b, NULL, NULL}}, {deployment.environment, {dev, NULL, NULL}}, {host.name, {host-572.local, NULL, NULL}}, {process.command_args, {NULL, NULL, {[{/path/to/executable-189, NULL}]}}}, {process.executable.name, {app-85, NULL, NULL}}, {process.executable.path, {/path/app-466, NULL, NULL}}, {process.owner, {user-70, NULL, NULL}}, {process.pid, {NULL, 1636, NULL}}, {process.runtime.description, {runtime v0.8365798320991001, NULL, NULL}}, {process.runtime.name, {java, NULL, NULL}}, {process.runtime.version, {1.11.0, NULL, NULL}}, {service.instance.id, {host-539.local, NULL, NULL}}, {service.name, {service-1, NULL, NULL}}, {service.version, {v0.12016450411605684, NULL, NULL}}, {telemetry.sdk.language, {java, NULL, NULL}}, {telemetry.sdk.name, {opentelemetry, NULL, NULL}}, {telemetry.sdk.version, {1.1.0, NULL, NULL}}, {k8s.pod.ip, {192.168.146.74, NULL, NULL}}]}, [{{scope-2}, [{263589738547083, 263589738622886, 9, info, {Random log message 140}, [{serviceName, {service-2, NULL, NULL}}, {hostname, {host-498.local, NULL, NULL}}, {code.filepath, {/app/code-86.java, NULL, NULL}}, {code.lineno, {NULL, 421, NULL}}, {code.function, {com.example.Func8, NULL, NULL}}, {language, {en, NULL, NULL}}, {correlationId, {074d8462-be42-4af1-ade5-72b3b98c37ec, NULL, NULL}}, {method, {POST, NULL, NULL}}, {path, {/api/v1/96, NULL, NULL}}, {query, {, NULL, NULL}}, {user-agent, {Agent/2, NULL, NULL}}, {request, {POST /api/v1/test HTTP/1.1\\r\\nHost: localhost:9109\\r\\n, NULL, NULL}}, {idList, {NULL, NULL, {[{id-518, NULL}, {id-619, NULL}]}}}, {time, {1744116977346Z, NULL, NULL}}], ba9b97b1-d9ef-487e-a747-5b810e58a244, d74d0555}]}], https://opentelemetry.io/schemas/1.26.0}]     |\n",
      "|[{{[{commit, {2864e86a-ead3-4ab0-96e6-d1b6f4f301a3, NULL, NULL}}, {deployment.environment, {test, NULL, NULL}}, {host.name, {host-215.local, NULL, NULL}}, {process.command_args, {NULL, NULL, {[{/path/to/executable-2, NULL}]}}}, {process.executable.name, {app-6, NULL, NULL}}, {process.executable.path, {/path/app-833, NULL, NULL}}, {process.owner, {user-79, NULL, NULL}}, {process.pid, {NULL, 13376, NULL}}, {process.runtime.description, {runtime v0.17944238212839958, NULL, NULL}}, {process.runtime.name, {java, NULL, NULL}}, {process.runtime.version, {1.14.0, NULL, NULL}}, {service.instance.id, {host-789.local, NULL, NULL}}, {service.name, {service-0, NULL, NULL}}, {service.version, {v0.32174086588725637, NULL, NULL}}, {telemetry.sdk.language, {java, NULL, NULL}}, {telemetry.sdk.name, {opentelemetry, NULL, NULL}}, {telemetry.sdk.version, {1.3.0, NULL, NULL}}, {k8s.pod.ip, {192.168.204.64, NULL, NULL}}]}, [{{scope-8}, [{263590753968291, 263590753981148, 9, info, {Random log message 78}, [{serviceName, {service-1, NULL, NULL}}, {hostname, {host-368.local, NULL, NULL}}, {code.filepath, {/app/code-76.java, NULL, NULL}}, {code.lineno, {NULL, 94, NULL}}, {code.function, {com.example.Func8, NULL, NULL}}, {language, {en, NULL, NULL}}, {correlationId, {f6f47d81-4c2e-43ad-a42c-5c35d0be24bc, NULL, NULL}}, {method, {POST, NULL, NULL}}, {path, {/api/v1/30, NULL, NULL}}, {query, {, NULL, NULL}}, {user-agent, {Agent/5, NULL, NULL}}, {request, {DELETE /api/v1/test HTTP/1.1\\r\\nHost: localhost:4982\\r\\n, NULL, NULL}}, {idList, {NULL, NULL, {[{id-630, NULL}, {id-380, NULL}]}}}, {time, {1744116978361Z, NULL, NULL}}], 12f5e264-02a7-49ba-9a8d-026c7bfc0b2d, 622294d3}]}], https://opentelemetry.io/schemas/1.26.0}]     |\n",
      "|[{{[{commit, {eeaf3ac5-4469-48d7-9516-dfd5b0beeab9, NULL, NULL}}, {deployment.environment, {dev, NULL, NULL}}, {host.name, {host-892.local, NULL, NULL}}, {process.command_args, {NULL, NULL, {[{/path/to/executable-883, NULL}]}}}, {process.executable.name, {app-14, NULL, NULL}}, {process.executable.path, {/path/app-572, NULL, NULL}}, {process.owner, {user-32, NULL, NULL}}, {process.pid, {NULL, 15224, NULL}}, {process.runtime.description, {runtime v0.24346514412235754, NULL, NULL}}, {process.runtime.name, {java, NULL, NULL}}, {process.runtime.version, {1.3.0, NULL, NULL}}, {service.instance.id, {host-749.local, NULL, NULL}}, {service.name, {service-4, NULL, NULL}}, {service.version, {v0.31421392465513176, NULL, NULL}}, {telemetry.sdk.language, {java, NULL, NULL}}, {telemetry.sdk.name, {opentelemetry, NULL, NULL}}, {telemetry.sdk.version, {1.2.0, NULL, NULL}}, {k8s.pod.ip, {192.168.85.12, NULL, NULL}}]}, [{{scope-0}, [{263591770874041, 263591770884320, 9, info, {Random log message 384}, [{serviceName, {service-2, NULL, NULL}}, {hostname, {host-317.local, NULL, NULL}}, {code.filepath, {/app/code-66.java, NULL, NULL}}, {code.lineno, {NULL, 452, NULL}}, {code.function, {com.example.Func9, NULL, NULL}}, {language, {en, NULL, NULL}}, {correlationId, {941a919a-62f6-4d22-8797-bee6c750b389, NULL, NULL}}, {method, {POST, NULL, NULL}}, {path, {/api/v1/63, NULL, NULL}}, {query, {, NULL, NULL}}, {user-agent, {Agent/8, NULL, NULL}}, {request, {PUT /api/v1/test HTTP/1.1\\r\\nHost: localhost:7006\\r\\n, NULL, NULL}}, {idList, {NULL, NULL, {[{id-874, NULL}, {id-684, NULL}]}}}, {time, {1744116979378Z, NULL, NULL}}], 2fe0a3d0-2222-4806-9136-279bc963020a, c6d3821a}]}], https://opentelemetry.io/schemas/1.26.0}]      |\n",
      "|[{{[{commit, {a4393cf7-68bd-4579-b9fc-32216698c9c2, NULL, NULL}}, {deployment.environment, {staging, NULL, NULL}}, {host.name, {host-518.local, NULL, NULL}}, {process.command_args, {NULL, NULL, {[{/path/to/executable-733, NULL}]}}}, {process.executable.name, {app-71, NULL, NULL}}, {process.executable.path, {/path/app-374, NULL, NULL}}, {process.owner, {user-40, NULL, NULL}}, {process.pid, {NULL, 12817, NULL}}, {process.runtime.description, {runtime v0.5742840846750822, NULL, NULL}}, {process.runtime.name, {java, NULL, NULL}}, {process.runtime.version, {1.3.0, NULL, NULL}}, {service.instance.id, {host-295.local, NULL, NULL}}, {service.name, {service-1, NULL, NULL}}, {service.version, {v0.9161378038427592, NULL, NULL}}, {telemetry.sdk.language, {java, NULL, NULL}}, {telemetry.sdk.name, {opentelemetry, NULL, NULL}}, {telemetry.sdk.version, {1.4.0, NULL, NULL}}, {k8s.pod.ip, {192.168.146.246, NULL, NULL}}]}, [{{scope-1}, [{263592776852000, 263592776859879, 9, info, {Random log message 814}, [{serviceName, {service-5, NULL, NULL}}, {hostname, {host-789.local, NULL, NULL}}, {code.filepath, {/app/code-8.java, NULL, NULL}}, {code.lineno, {NULL, 932, NULL}}, {code.function, {com.example.Func7, NULL, NULL}}, {language, {en, NULL, NULL}}, {correlationId, {d0509f1c-0346-4d02-bb4a-c239d31209f2, NULL, NULL}}, {method, {POST, NULL, NULL}}, {path, {/api/v1/34, NULL, NULL}}, {query, {, NULL, NULL}}, {user-agent, {Agent/4, NULL, NULL}}, {request, {DELETE /api/v1/test HTTP/1.1\\r\\nHost: localhost:3010\\r\\n, NULL, NULL}}, {idList, {NULL, NULL, {[{id-384, NULL}, {id-567, NULL}]}}}, {time, {1744116980384Z, NULL, NULL}}], a188d322-f4d1-4bff-bf13-08956f45f98d, 1a98b34c}]}], https://opentelemetry.io/schemas/1.26.0}]|\n",
      "|[{{[{commit, {706cf0d7-d055-4084-996e-52560027f336, NULL, NULL}}, {deployment.environment, {dev, NULL, NULL}}, {host.name, {host-298.local, NULL, NULL}}, {process.command_args, {NULL, NULL, {[{/path/to/executable-555, NULL}]}}}, {process.executable.name, {app-98, NULL, NULL}}, {process.executable.path, {/path/app-780, NULL, NULL}}, {process.owner, {user-33, NULL, NULL}}, {process.pid, {NULL, 2544, NULL}}, {process.runtime.description, {runtime v0.2445654137135448, NULL, NULL}}, {process.runtime.name, {java, NULL, NULL}}, {process.runtime.version, {1.2.0, NULL, NULL}}, {service.instance.id, {host-262.local, NULL, NULL}}, {service.name, {service-7, NULL, NULL}}, {service.version, {v0.5128794685423378, NULL, NULL}}, {telemetry.sdk.language, {java, NULL, NULL}}, {telemetry.sdk.name, {opentelemetry, NULL, NULL}}, {telemetry.sdk.version, {1.2.0, NULL, NULL}}, {k8s.pod.ip, {192.168.202.99, NULL, NULL}}]}, [{{scope-9}, [{263593786141291, 263593786154544, 9, info, {Random log message 339}, [{serviceName, {service-7, NULL, NULL}}, {hostname, {host-459.local, NULL, NULL}}, {code.filepath, {/app/code-5.java, NULL, NULL}}, {code.lineno, {NULL, 881, NULL}}, {code.function, {com.example.Func2, NULL, NULL}}, {language, {en, NULL, NULL}}, {correlationId, {9a0767e6-4545-4acf-8f1c-142e2b082e12, NULL, NULL}}, {method, {POST, NULL, NULL}}, {path, {/api/v1/47, NULL, NULL}}, {query, {, NULL, NULL}}, {user-agent, {Agent/2, NULL, NULL}}, {request, {PUT /api/v1/test HTTP/1.1\\r\\nHost: localhost:6694\\r\\n, NULL, NULL}}, {idList, {NULL, NULL, {[{id-507, NULL}, {id-993, NULL}]}}}, {time, {1744116981393Z, NULL, NULL}}], eb07e405-12c7-44eb-93e9-4deb18ef6468, 5d7b8d52}]}], https://opentelemetry.io/schemas/1.26.0}]         |\n",
      "|[{{[{commit, {7ae4e80b-2494-4216-8f4e-634a4cf5444f, NULL, NULL}}, {deployment.environment, {staging, NULL, NULL}}, {host.name, {host-156.local, NULL, NULL}}, {process.command_args, {NULL, NULL, {[{/path/to/executable-914, NULL}]}}}, {process.executable.name, {app-95, NULL, NULL}}, {process.executable.path, {/path/app-746, NULL, NULL}}, {process.owner, {user-98, NULL, NULL}}, {process.pid, {NULL, 17399, NULL}}, {process.runtime.description, {runtime v0.09927537804944953, NULL, NULL}}, {process.runtime.name, {java, NULL, NULL}}, {process.runtime.version, {1.19.0, NULL, NULL}}, {service.instance.id, {host-542.local, NULL, NULL}}, {service.name, {service-1, NULL, NULL}}, {service.version, {v0.5180748432288125, NULL, NULL}}, {telemetry.sdk.language, {java, NULL, NULL}}, {telemetry.sdk.name, {opentelemetry, NULL, NULL}}, {telemetry.sdk.version, {1.2.0, NULL, NULL}}, {k8s.pod.ip, {192.168.111.47, NULL, NULL}}]}, [{{scope-6}, [{263594793673708, 263594793679913, 9, info, {Random log message 957}, [{serviceName, {service-3, NULL, NULL}}, {hostname, {host-236.local, NULL, NULL}}, {code.filepath, {/app/code-55.java, NULL, NULL}}, {code.lineno, {NULL, 328, NULL}}, {code.function, {com.example.Func8, NULL, NULL}}, {language, {en, NULL, NULL}}, {correlationId, {e8d83f21-447c-42dc-be81-cdabf5254501, NULL, NULL}}, {method, {GET, NULL, NULL}}, {path, {/api/v1/63, NULL, NULL}}, {query, {, NULL, NULL}}, {user-agent, {Agent/7, NULL, NULL}}, {request, {PUT /api/v1/test HTTP/1.1\\r\\nHost: localhost:2188\\r\\n, NULL, NULL}}, {idList, {NULL, NULL, {[{id-550, NULL}, {id-509, NULL}]}}}, {time, {1744116982401Z, NULL, NULL}}], 647a211a-2332-42fc-9ae1-d33c515a0c7e, 85f3b665}]}], https://opentelemetry.io/schemas/1.26.0}]  |\n",
      "|[{{[{commit, {b0763429-de5a-495a-8c1f-7b952d3e883a, NULL, NULL}}, {deployment.environment, {dev, NULL, NULL}}, {host.name, {host-432.local, NULL, NULL}}, {process.command_args, {NULL, NULL, {[{/path/to/executable-469, NULL}]}}}, {process.executable.name, {app-2, NULL, NULL}}, {process.executable.path, {/path/app-68, NULL, NULL}}, {process.owner, {user-36, NULL, NULL}}, {process.pid, {NULL, 12172, NULL}}, {process.runtime.description, {runtime v0.17673115830600616, NULL, NULL}}, {process.runtime.name, {java, NULL, NULL}}, {process.runtime.version, {1.19.0, NULL, NULL}}, {service.instance.id, {host-564.local, NULL, NULL}}, {service.name, {service-3, NULL, NULL}}, {service.version, {v0.5577415485682764, NULL, NULL}}, {telemetry.sdk.language, {java, NULL, NULL}}, {telemetry.sdk.name, {opentelemetry, NULL, NULL}}, {telemetry.sdk.version, {1.0.0, NULL, NULL}}, {k8s.pod.ip, {192.168.81.175, NULL, NULL}}]}, [{{scope-7}, [{263595832009083, 263595832022387, 9, info, {Random log message 447}, [{serviceName, {service-1, NULL, NULL}}, {hostname, {host-731.local, NULL, NULL}}, {code.filepath, {/app/code-52.java, NULL, NULL}}, {code.lineno, {NULL, 38, NULL}}, {code.function, {com.example.Func3, NULL, NULL}}, {language, {en, NULL, NULL}}, {correlationId, {6efa518c-1dc2-4d5c-840a-3cbfdd4d3c74, NULL, NULL}}, {method, {POST, NULL, NULL}}, {path, {/api/v1/69, NULL, NULL}}, {query, {, NULL, NULL}}, {user-agent, {Agent/1, NULL, NULL}}, {request, {GET /api/v1/test HTTP/1.1\\r\\nHost: localhost:7659\\r\\n, NULL, NULL}}, {idList, {NULL, NULL, {[{id-263, NULL}, {id-129, NULL}]}}}, {time, {1744116983439Z, NULL, NULL}}], 2ba8b88a-1235-43fa-b55b-068241bc891b, 4b814d5b}]}], https://opentelemetry.io/schemas/1.26.0}]        |\n",
      "|[{{[{commit, {a92b51ec-2123-4b7b-9345-cfa09ad8ffbd, NULL, NULL}}, {deployment.environment, {staging, NULL, NULL}}, {host.name, {host-201.local, NULL, NULL}}, {process.command_args, {NULL, NULL, {[{/path/to/executable-433, NULL}]}}}, {process.executable.name, {app-31, NULL, NULL}}, {process.executable.path, {/path/app-582, NULL, NULL}}, {process.owner, {user-17, NULL, NULL}}, {process.pid, {NULL, 19345, NULL}}, {process.runtime.description, {runtime v0.8054333535073421, NULL, NULL}}, {process.runtime.name, {java, NULL, NULL}}, {process.runtime.version, {1.10.0, NULL, NULL}}, {service.instance.id, {host-300.local, NULL, NULL}}, {service.name, {service-9, NULL, NULL}}, {service.version, {v0.8770475197136713, NULL, NULL}}, {telemetry.sdk.language, {java, NULL, NULL}}, {telemetry.sdk.name, {opentelemetry, NULL, NULL}}, {telemetry.sdk.version, {1.2.0, NULL, NULL}}, {k8s.pod.ip, {192.168.247.29, NULL, NULL}}]}, [{{scope-4}, [{263596854813500, 263596854830896, 9, info, {Random log message 613}, [{serviceName, {service-1, NULL, NULL}}, {hostname, {host-28.local, NULL, NULL}}, {code.filepath, {/app/code-85.java, NULL, NULL}}, {code.lineno, {NULL, 381, NULL}}, {code.function, {com.example.Func0, NULL, NULL}}, {language, {en, NULL, NULL}}, {correlationId, {8fcdfe87-f104-4ca5-9b5d-d7938b04796e, NULL, NULL}}, {method, {POST, NULL, NULL}}, {path, {/api/v1/54, NULL, NULL}}, {query, {, NULL, NULL}}, {user-agent, {Agent/4, NULL, NULL}}, {request, {POST /api/v1/test HTTP/1.1\\r\\nHost: localhost:8005\\r\\n, NULL, NULL}}, {idList, {NULL, NULL, {[{id-984, NULL}, {id-591, NULL}]}}}, {time, {1744116984462Z, NULL, NULL}}], 311106bb-80e2-44d8-8e7c-a37713afabe8, b77f8925}]}], https://opentelemetry.io/schemas/1.26.0}]  |\n",
      "|[{{[{commit, {ab0b6ab3-1268-4e6d-b009-c463b78c8cec, NULL, NULL}}, {deployment.environment, {dev, NULL, NULL}}, {host.name, {host-747.local, NULL, NULL}}, {process.command_args, {NULL, NULL, {[{/path/to/executable-329, NULL}]}}}, {process.executable.name, {app-86, NULL, NULL}}, {process.executable.path, {/path/app-755, NULL, NULL}}, {process.owner, {user-11, NULL, NULL}}, {process.pid, {NULL, 15148, NULL}}, {process.runtime.description, {runtime v0.8766793306242395, NULL, NULL}}, {process.runtime.name, {java, NULL, NULL}}, {process.runtime.version, {1.11.0, NULL, NULL}}, {service.instance.id, {host-937.local, NULL, NULL}}, {service.name, {service-5, NULL, NULL}}, {service.version, {v0.46973619899178176, NULL, NULL}}, {telemetry.sdk.language, {java, NULL, NULL}}, {telemetry.sdk.name, {opentelemetry, NULL, NULL}}, {telemetry.sdk.version, {1.0.0, NULL, NULL}}, {k8s.pod.ip, {192.168.225.23, NULL, NULL}}]}, [{{scope-4}, [{263597877377916, 263597877387997, 9, info, {Random log message 163}, [{serviceName, {service-4, NULL, NULL}}, {hostname, {host-149.local, NULL, NULL}}, {code.filepath, {/app/code-75.java, NULL, NULL}}, {code.lineno, {NULL, 89, NULL}}, {code.function, {com.example.Func7, NULL, NULL}}, {language, {en, NULL, NULL}}, {correlationId, {2167f253-f499-4b53-8e42-0995ce46f7c4, NULL, NULL}}, {method, {DELETE, NULL, NULL}}, {path, {/api/v1/37, NULL, NULL}}, {query, {, NULL, NULL}}, {user-agent, {Agent/4, NULL, NULL}}, {request, {PUT /api/v1/test HTTP/1.1\\r\\nHost: localhost:2958\\r\\n, NULL, NULL}}, {idList, {NULL, NULL, {[{id-479, NULL}, {id-611, NULL}]}}}, {time, {1744116985485Z, NULL, NULL}}], c73a44a7-0a3d-496e-b7ff-af8f3fb558fb, d369295a}]}], https://opentelemetry.io/schemas/1.26.0}]    |\n",
      "|[{{[{commit, {ee991bd3-7e75-4022-9fce-c643d69ea483, NULL, NULL}}, {deployment.environment, {prod, NULL, NULL}}, {host.name, {host-828.local, NULL, NULL}}, {process.command_args, {NULL, NULL, {[{/path/to/executable-154, NULL}]}}}, {process.executable.name, {app-14, NULL, NULL}}, {process.executable.path, {/path/app-760, NULL, NULL}}, {process.owner, {user-12, NULL, NULL}}, {process.pid, {NULL, 16191, NULL}}, {process.runtime.description, {runtime v0.7929580425732223, NULL, NULL}}, {process.runtime.name, {java, NULL, NULL}}, {process.runtime.version, {1.15.0, NULL, NULL}}, {service.instance.id, {host-800.local, NULL, NULL}}, {service.name, {service-9, NULL, NULL}}, {service.version, {v0.4302077441879799, NULL, NULL}}, {telemetry.sdk.language, {java, NULL, NULL}}, {telemetry.sdk.name, {opentelemetry, NULL, NULL}}, {telemetry.sdk.version, {1.3.0, NULL, NULL}}, {k8s.pod.ip, {192.168.232.17, NULL, NULL}}]}, [{{scope-5}, [{263598888261416, 263598888269360, 9, info, {Random log message 253}, [{serviceName, {service-6, NULL, NULL}}, {hostname, {host-159.local, NULL, NULL}}, {code.filepath, {/app/code-48.java, NULL, NULL}}, {code.lineno, {NULL, 584, NULL}}, {code.function, {com.example.Func7, NULL, NULL}}, {language, {en, NULL, NULL}}, {correlationId, {33994535-1dfc-442e-b254-199e79b10bd2, NULL, NULL}}, {method, {GET, NULL, NULL}}, {path, {/api/v1/15, NULL, NULL}}, {query, {, NULL, NULL}}, {user-agent, {Agent/9, NULL, NULL}}, {request, {DELETE /api/v1/test HTTP/1.1\\r\\nHost: localhost:1579\\r\\n, NULL, NULL}}, {idList, {NULL, NULL, {[{id-734, NULL}, {id-403, NULL}]}}}, {time, {1744116986496Z, NULL, NULL}}], d148724b-1293-4893-baaa-3058ff6e50ae, 1727d753}]}], https://opentelemetry.io/schemas/1.26.0}]   |\n",
      "+--------------------------------------------------------------------------------------------------------------------------------------------------------------------------------------------------------------------------------------------------------------------------------------------------------------------------------------------------------------------------------------------------------------------------------------------------------------------------------------------------------------------------------------------------------------------------------------------------------------------------------------------------------------------------------------------------------------------------------------------------------------------------------------------------------------------------------------------------------------------------------------------------------------------------------------------------------------------------------------------------------------------------------------------------------------------------------------------------------------------------------------------------------------------------------------------------------------------------------------------------------------------------------------------------------------------------------------------------------------------------------------------------------------------------------------------------------------------------------------------------------------------------------------------------------------------------------------------------------------------------------------------------------------------------------------------------------------------------------------------------------------------------------------+\n",
      "only showing top 20 rows\n",
      "\n"
     ]
    }
   ],
   "source": [
    "df.show(20, False)"
   ]
  },
  {
   "cell_type": "code",
   "execution_count": null,
   "id": "40fba3f1-2deb-4144-a5b1-904ddbf6a767",
   "metadata": {},
   "outputs": [],
   "source": []
  },
  {
   "cell_type": "code",
   "execution_count": 12,
   "id": "540d4a58-bb1b-44b1-82a5-9690a1e87f70",
   "metadata": {},
   "outputs": [],
   "source": [
    "# df.write.parquet(\"s3a://int-avatar-test/logs/parquet/all\", mode=\"overwrite\")"
   ]
  },
  {
   "cell_type": "code",
   "execution_count": 13,
   "id": "7cd84795-c027-494b-a655-21585162c5ec",
   "metadata": {},
   "outputs": [],
   "source": [
    "# dfr = spark.read.parquet('s3a://int-avatar-test/logs/parquet/all')"
   ]
  },
  {
   "cell_type": "code",
   "execution_count": 14,
   "id": "58c0d034-c21a-4ce4-ba94-0518ec9afba9",
   "metadata": {},
   "outputs": [],
   "source": [
    "# dfr.show()"
   ]
  },
  {
   "cell_type": "code",
   "execution_count": 15,
   "id": "25a28275-3c1b-45f6-aaf8-c524c6307243",
   "metadata": {},
   "outputs": [],
   "source": [
    "# from pyspark.sql.functions import col"
   ]
  },
  {
   "cell_type": "code",
   "execution_count": 16,
   "id": "9ca5febd-01f8-4107-862d-1833cbb2f9de",
   "metadata": {},
   "outputs": [],
   "source": [
    "# df1=df.select('body','google_response','path').withColumn(\"google_response.orderId\", col(\"google_response.orderId\")).drop(\"google_response\")\n",
    "# df1.drop(\"body\").show(truncate=False)"
   ]
  },
  {
   "cell_type": "code",
   "execution_count": 17,
   "id": "4f96e944-000c-4508-b186-d5ae817fa89a",
   "metadata": {},
   "outputs": [],
   "source": [
    "# dfr.write.parquet(\"s3a://int-avatar-test/logs/parquet/4-total\", mode=\"overwrite\")"
   ]
  },
  {
   "cell_type": "code",
   "execution_count": 18,
   "id": "fe95b6dd-41aa-43f6-92c3-dd991e068ff8",
   "metadata": {},
   "outputs": [],
   "source": [
    "# dft = spark.read.parquet('s3a://int-avatar-test/logs/parquet/4-total')"
   ]
  },
  {
   "cell_type": "code",
   "execution_count": 19,
   "id": "a9bec3de-80a4-4390-a377-ced88c86df34",
   "metadata": {},
   "outputs": [],
   "source": [
    "# dft.show()"
   ]
  },
  {
   "cell_type": "code",
   "execution_count": 20,
   "id": "ada6893d-df4b-4492-8924-d76980cb4336",
   "metadata": {},
   "outputs": [],
   "source": [
    "# print(f'The PySpark {spark.version} version is running...')"
   ]
  }
 ],
 "metadata": {
  "kernelspec": {
   "display_name": "Python 3",
   "language": "python",
   "name": "python3"
  },
  "language_info": {
   "codemirror_mode": {
    "name": "ipython",
    "version": 3
   },
   "file_extension": ".py",
   "mimetype": "text/x-python",
   "name": "python",
   "nbconvert_exporter": "python",
   "pygments_lexer": "ipython3",
   "version": "3.10.16"
  }
 },
 "nbformat": 4,
 "nbformat_minor": 5
}
